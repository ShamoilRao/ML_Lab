{
  "nbformat": 4,
  "nbformat_minor": 0,
  "metadata": {
    "colab": {
      "provenance": []
    },
    "kernelspec": {
      "name": "python3",
      "display_name": "Python 3"
    },
    "language_info": {
      "name": "python"
    }
  },
  "cells": [
    {
      "cell_type": "code",
      "execution_count": 1,
      "metadata": {
        "id": "gpdAWGYCrwTv"
      },
      "outputs": [],
      "source": [
        "import tensorflow as tf\n",
        "from tensorflow import keras\n",
        "import pandas as pd\n",
        "import numpy as np\n",
        "import matplotlib.pyplot as plt\n",
        "import seaborn as sns\n",
        "\n",
        "sns.set_theme(style='whitegrid', context = 'paper', font = 'Georgia')"
      ]
    },
    {
      "cell_type": "code",
      "source": [
        "(X_train,Y_train),(x_test,y_test) = keras.datasets.cifar100.load_data(label_mode=\"fine\")\n"
      ],
      "metadata": {
        "colab": {
          "base_uri": "https://localhost:8080/"
        },
        "id": "9S3Sv1xor-RV",
        "outputId": "10e9a0d7-6d03-430c-ee6d-c59e7980d092"
      },
      "execution_count": 2,
      "outputs": [
        {
          "output_type": "stream",
          "name": "stdout",
          "text": [
            "Downloading data from https://www.cs.toronto.edu/~kriz/cifar-100-python.tar.gz\n",
            "169001437/169001437 [==============================] - 3s 0us/step\n"
          ]
        }
      ]
    },
    {
      "cell_type": "code",
      "source": [
        "\n",
        "#--Getting general idea of the dataset\n",
        "print(f'The shape of X_train is :{X_train.shape}','\\t',f'The shape of Y_train is :{Y_train.shape}','\\n',\n",
        "     f'The shape of X_test is :{x_test.shape}','\\t',f'The shape of y_test is :{y_test.shape}')"
      ],
      "metadata": {
        "colab": {
          "base_uri": "https://localhost:8080/"
        },
        "id": "iPPD5vOAsCg0",
        "outputId": "4e8e9c37-fce4-44f0-dc01-4de51d505e62"
      },
      "execution_count": 3,
      "outputs": [
        {
          "output_type": "stream",
          "name": "stdout",
          "text": [
            "The shape of X_train is :(50000, 32, 32, 3) \t The shape of Y_train is :(50000, 1) \n",
            " The shape of X_test is :(10000, 32, 32, 3) \t The shape of y_test is :(10000, 1)\n"
          ]
        }
      ]
    },
    {
      "cell_type": "code",
      "source": [
        "#--Scaling the dataset\n",
        "X_train_scaled = X_train/255\n",
        "x_test_scaled = x_test/255\n",
        "\n",
        "\n"
      ],
      "metadata": {
        "id": "OsA6RWNAsGQA"
      },
      "execution_count": 4,
      "outputs": []
    },
    {
      "cell_type": "markdown",
      "source": [
        "for i in range(12):\n",
        "    plt.subplot(3,4,i+1)\n",
        "    plt.imshow(X_train[i])\n",
        "    plt.axis('off')"
      ],
      "metadata": {
        "id": "48ZZW5O6sK8A"
      }
    }
  ]
}